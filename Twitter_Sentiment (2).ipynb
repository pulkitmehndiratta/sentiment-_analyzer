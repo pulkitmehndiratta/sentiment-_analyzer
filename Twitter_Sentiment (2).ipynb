{
  "cells": [
    {
      "cell_type": "code",
      "execution_count": null,
      "metadata": {
        "id": "3oR2-9XYkD2n"
      },
      "outputs": [],
      "source": [
        "import pandas as pd\n",
        "import numpy as np\n",
        "import matplotlib.pyplot as plt\n",
        "import seaborn as sns\n",
        "\n",
        "import tweepy\n",
        "from tweepy import OAuthHandler"
      ]
    },
    {
      "cell_type": "code",
      "execution_count": null,
      "metadata": {
        "id": "EP6CWnDukHBz"
      },
      "outputs": [],
      "source": [
        "consumer_key = 'KtPake0WbuIZjPSZ1PzHtsRUt'\n",
        "consumer_secret = 'TovEeb1S9EmYCx1etxRmAY9mLys5UzSSfskX5k89i2Clw7qZPF'\n",
        "access_token = '172835284-JNMyTrc5qu7lGgc92ZSYn9WIWPRtInQ6tyI5Wmj1'\n",
        "access_token_secret = 'kEX6BOfok2TFOJ7hAZkeu1Of7Llza9hDh4s2JlK6pyEP7'"
      ]
    },
    {
      "cell_type": "code",
      "execution_count": null,
      "metadata": {
        "id": "PwRQ8QeGkNnR"
      },
      "outputs": [],
      "source": [
        "auth = tweepy.OAuthHandler( consumer_key , consumer_secret )\n",
        "auth.set_access_token( access_token , access_token_secret )\n",
        "api = tweepy.API(auth)"
      ]
    },
    {
      "cell_type": "code",
      "source": [],
      "metadata": {
        "id": "5MO-DKTiNIIo"
      },
      "execution_count": null,
      "outputs": []
    },
    {
      "cell_type": "code",
      "execution_count": null,
      "metadata": {
        "colab": {
          "base_uri": "https://localhost:8080/"
        },
        "id": "xozRBrzekZSw",
        "outputId": "71bce588-be15-4233-b353-c7ad2b95dbfd"
      },
      "outputs": [
        {
          "output_type": "stream",
          "name": "stdout",
          "text": [
            "Empty DataFrame\n",
            "Columns: [Date, User, IsVerified, Tweet, Likes, RT, User_location]\n",
            "Index: []\n"
          ]
        }
      ],
      "source": [
        "df = pd.DataFrame(columns=[\"Date\",\"User\",\"IsVerified\",\"Tweet\",\"Likes\",\"RT\",'User_location'])\n",
        "print(df)"
      ]
    },
    {
      "cell_type": "code",
      "execution_count": null,
      "metadata": {
        "id": "rsYUgyUmkgW1"
      },
      "outputs": [],
      "source": [
        "def get_tweets(Topic,Count):    \n",
        "    i=0\n",
        "    for tweet in tweepy.Cursor(api.search, q=Topic,count=100, lang=\"en\",exclude='retweets').items():\n",
        "        print(i, end='\\r')\n",
        "        df.loc[i,\"Date\"] = tweet.created_at\n",
        "        df.loc[i,\"User\"] = tweet.user.name\n",
        "        df.loc[i,\"IsVerified\"] = tweet.user.verified\n",
        "        df.loc[i,\"Tweet\"] = tweet.text\n",
        "        df.loc[i,\"Likes\"] = tweet.favorite_count\n",
        "        df.loc[i,\"RT\"] = tweet.retweet_count\n",
        "        df.loc[i,\"User_location\"] = tweet.user.location\n",
        "        #df.to_csv(\"TweetDataset.csv\",index=False)\n",
        "        df.to_excel('{}.xlsx'.format(\"TweetDataset\"),index=False)   ## Save as Excel\n",
        "        i=i+1\n",
        "        if i>Count:\n",
        "            break\n",
        "        else:\n",
        "            pass"
      ]
    },
    {
      "cell_type": "code",
      "execution_count": null,
      "metadata": {
        "id": "KzXzPgHOkjq4",
        "colab": {
          "base_uri": "https://localhost:8080/"
        },
        "outputId": "e152c4e2-1ddc-497d-80c0-a3093dba50b0"
      },
      "outputs": [
        {
          "output_type": "stream",
          "name": "stdout",
          "text": []
        }
      ],
      "source": [
        "Topic=[\"Adani\"]\n",
        "get_tweets(Topic , Count=100)"
      ]
    },
    {
      "cell_type": "code",
      "execution_count": null,
      "metadata": {
        "id": "xRkWF8fikmpk",
        "colab": {
          "base_uri": "https://localhost:8080/",
          "height": 1000
        },
        "outputId": "6d00911f-56ee-4137-986a-7d7e1d14a51e"
      },
      "outputs": [
        {
          "output_type": "execute_result",
          "data": {
            "text/plain": [
              "                    Date                                               User  \\\n",
              "91   2023-02-11 11:27:14                                   Family and Flats   \n",
              "92   2023-02-11 11:26:43                                            Raula88   \n",
              "93   2023-02-11 11:26:16                                       MB Bahashwan   \n",
              "94   2023-02-11 11:26:13  Android APP: 安卓应用程序 SGX Stock Pick,Fund Flow实际...   \n",
              "95   2023-02-11 11:25:49                                         ahkam noor   \n",
              "96   2023-02-11 11:25:26                                         SanjayKJha   \n",
              "97   2023-02-11 11:25:21                                   Rajesh Bhambhani   \n",
              "98   2023-02-11 11:25:20                                            Kishore   \n",
              "99   2023-02-11 11:25:18                                            1OF5 AM   \n",
              "100  2023-02-11 11:25:14                            𝘌𝘥𝘥𝘺 𝘷𝘢𝘯 𝘐𝘑𝘻𝘦𝘯𝘥𝘰𝘰𝘳𝘯 ™ 🐦   \n",
              "\n",
              "    IsVerified                                              Tweet Likes RT  \\\n",
              "91       False  Unwind in style and comfort at #AdaniVilasa in...     1  0   \n",
              "92       False  @PiyushGoyal @narendramodi Change your last na...     0  0   \n",
              "93       False  Indian regulators are aware of concerns regard...     2  2   \n",
              "94       False  Adani Group loses half its market value in jus...     0  0   \n",
              "95       False  India’s Finance Minister Answers Crypto Regula...     0  0   \n",
              "96       False  Ordinary citizens want accountability, not an ...     1  2   \n",
              "97       False  @GirishKumarGoy6 @Ekthi_MeenuD Questions, not ...     0  0   \n",
              "98       False  Time is coming very fast corrupt Adani's pet 🐶...     0  1   \n",
              "99       False  @rishibagree @pbhushan1 Know of an UMPP of 500...     1  1   \n",
              "100      False  Breaking: India’s Finance Minister Answers Cry...     0  0   \n",
              "\n",
              "                     User_location  \\\n",
              "91              Baani City Center    \n",
              "92                                   \n",
              "93                          India    \n",
              "94   LimTan #15, INCOME AT RAFFLES   \n",
              "95                       MedanCity   \n",
              "96                           Delhi   \n",
              "97                                   \n",
              "98                                   \n",
              "99                                   \n",
              "100         Amsterdam, Netherlands   \n",
              "\n",
              "                                           clean_tweet Sentiment  \n",
              "91   surprise your date with some candlelight and a...   Neutral  \n",
              "92   happiness is a sitting back and enjoying the m...  Positive  \n",
              "93   cloud zoe like the new couple met n thry made ...  Negative  \n",
              "94   the real voyage of discovery consists not in s...  Positive  \n",
              "95                      yes they are forgiving of thei   Neutral  \n",
              "96   fijaipur acb detains suspended dsp in bribery ...   Neutral  \n",
              "97   ramada resort and spa is the perfect place to ...  Positive  \n",
              "98   it s disappointing how abhir s constant desire...  Negative  \n",
              "99   i grew up in a hilly area in the aravalis sout...   Neutral  \n",
              "100  jagdish temple udaipur this master piece was b...   Neutral  "
            ],
            "text/html": [
              "\n",
              "  <div id=\"df-71b30e57-a936-48a8-ae85-5da7fb2b09b5\">\n",
              "    <div class=\"colab-df-container\">\n",
              "      <div>\n",
              "<style scoped>\n",
              "    .dataframe tbody tr th:only-of-type {\n",
              "        vertical-align: middle;\n",
              "    }\n",
              "\n",
              "    .dataframe tbody tr th {\n",
              "        vertical-align: top;\n",
              "    }\n",
              "\n",
              "    .dataframe thead th {\n",
              "        text-align: right;\n",
              "    }\n",
              "</style>\n",
              "<table border=\"1\" class=\"dataframe\">\n",
              "  <thead>\n",
              "    <tr style=\"text-align: right;\">\n",
              "      <th></th>\n",
              "      <th>Date</th>\n",
              "      <th>User</th>\n",
              "      <th>IsVerified</th>\n",
              "      <th>Tweet</th>\n",
              "      <th>Likes</th>\n",
              "      <th>RT</th>\n",
              "      <th>User_location</th>\n",
              "      <th>clean_tweet</th>\n",
              "      <th>Sentiment</th>\n",
              "    </tr>\n",
              "  </thead>\n",
              "  <tbody>\n",
              "    <tr>\n",
              "      <th>91</th>\n",
              "      <td>2023-02-11 11:27:14</td>\n",
              "      <td>Family and Flats</td>\n",
              "      <td>False</td>\n",
              "      <td>Unwind in style and comfort at #AdaniVilasa in...</td>\n",
              "      <td>1</td>\n",
              "      <td>0</td>\n",
              "      <td>Baani City Center</td>\n",
              "      <td>surprise your date with some candlelight and a...</td>\n",
              "      <td>Neutral</td>\n",
              "    </tr>\n",
              "    <tr>\n",
              "      <th>92</th>\n",
              "      <td>2023-02-11 11:26:43</td>\n",
              "      <td>Raula88</td>\n",
              "      <td>False</td>\n",
              "      <td>@PiyushGoyal @narendramodi Change your last na...</td>\n",
              "      <td>0</td>\n",
              "      <td>0</td>\n",
              "      <td></td>\n",
              "      <td>happiness is a sitting back and enjoying the m...</td>\n",
              "      <td>Positive</td>\n",
              "    </tr>\n",
              "    <tr>\n",
              "      <th>93</th>\n",
              "      <td>2023-02-11 11:26:16</td>\n",
              "      <td>MB Bahashwan</td>\n",
              "      <td>False</td>\n",
              "      <td>Indian regulators are aware of concerns regard...</td>\n",
              "      <td>2</td>\n",
              "      <td>2</td>\n",
              "      <td>India</td>\n",
              "      <td>cloud zoe like the new couple met n thry made ...</td>\n",
              "      <td>Negative</td>\n",
              "    </tr>\n",
              "    <tr>\n",
              "      <th>94</th>\n",
              "      <td>2023-02-11 11:26:13</td>\n",
              "      <td>Android APP: 安卓应用程序 SGX Stock Pick,Fund Flow实际...</td>\n",
              "      <td>False</td>\n",
              "      <td>Adani Group loses half its market value in jus...</td>\n",
              "      <td>0</td>\n",
              "      <td>0</td>\n",
              "      <td>LimTan #15, INCOME AT RAFFLES</td>\n",
              "      <td>the real voyage of discovery consists not in s...</td>\n",
              "      <td>Positive</td>\n",
              "    </tr>\n",
              "    <tr>\n",
              "      <th>95</th>\n",
              "      <td>2023-02-11 11:25:49</td>\n",
              "      <td>ahkam noor</td>\n",
              "      <td>False</td>\n",
              "      <td>India’s Finance Minister Answers Crypto Regula...</td>\n",
              "      <td>0</td>\n",
              "      <td>0</td>\n",
              "      <td>MedanCity</td>\n",
              "      <td>yes they are forgiving of thei</td>\n",
              "      <td>Neutral</td>\n",
              "    </tr>\n",
              "    <tr>\n",
              "      <th>96</th>\n",
              "      <td>2023-02-11 11:25:26</td>\n",
              "      <td>SanjayKJha</td>\n",
              "      <td>False</td>\n",
              "      <td>Ordinary citizens want accountability, not an ...</td>\n",
              "      <td>1</td>\n",
              "      <td>2</td>\n",
              "      <td>Delhi</td>\n",
              "      <td>fijaipur acb detains suspended dsp in bribery ...</td>\n",
              "      <td>Neutral</td>\n",
              "    </tr>\n",
              "    <tr>\n",
              "      <th>97</th>\n",
              "      <td>2023-02-11 11:25:21</td>\n",
              "      <td>Rajesh Bhambhani</td>\n",
              "      <td>False</td>\n",
              "      <td>@GirishKumarGoy6 @Ekthi_MeenuD Questions, not ...</td>\n",
              "      <td>0</td>\n",
              "      <td>0</td>\n",
              "      <td></td>\n",
              "      <td>ramada resort and spa is the perfect place to ...</td>\n",
              "      <td>Positive</td>\n",
              "    </tr>\n",
              "    <tr>\n",
              "      <th>98</th>\n",
              "      <td>2023-02-11 11:25:20</td>\n",
              "      <td>Kishore</td>\n",
              "      <td>False</td>\n",
              "      <td>Time is coming very fast corrupt Adani's pet 🐶...</td>\n",
              "      <td>0</td>\n",
              "      <td>1</td>\n",
              "      <td></td>\n",
              "      <td>it s disappointing how abhir s constant desire...</td>\n",
              "      <td>Negative</td>\n",
              "    </tr>\n",
              "    <tr>\n",
              "      <th>99</th>\n",
              "      <td>2023-02-11 11:25:18</td>\n",
              "      <td>1OF5 AM</td>\n",
              "      <td>False</td>\n",
              "      <td>@rishibagree @pbhushan1 Know of an UMPP of 500...</td>\n",
              "      <td>1</td>\n",
              "      <td>1</td>\n",
              "      <td></td>\n",
              "      <td>i grew up in a hilly area in the aravalis sout...</td>\n",
              "      <td>Neutral</td>\n",
              "    </tr>\n",
              "    <tr>\n",
              "      <th>100</th>\n",
              "      <td>2023-02-11 11:25:14</td>\n",
              "      <td>𝘌𝘥𝘥𝘺 𝘷𝘢𝘯 𝘐𝘑𝘻𝘦𝘯𝘥𝘰𝘰𝘳𝘯 ™ 🐦</td>\n",
              "      <td>False</td>\n",
              "      <td>Breaking: India’s Finance Minister Answers Cry...</td>\n",
              "      <td>0</td>\n",
              "      <td>0</td>\n",
              "      <td>Amsterdam, Netherlands</td>\n",
              "      <td>jagdish temple udaipur this master piece was b...</td>\n",
              "      <td>Neutral</td>\n",
              "    </tr>\n",
              "  </tbody>\n",
              "</table>\n",
              "</div>\n",
              "      <button class=\"colab-df-convert\" onclick=\"convertToInteractive('df-71b30e57-a936-48a8-ae85-5da7fb2b09b5')\"\n",
              "              title=\"Convert this dataframe to an interactive table.\"\n",
              "              style=\"display:none;\">\n",
              "        \n",
              "  <svg xmlns=\"http://www.w3.org/2000/svg\" height=\"24px\"viewBox=\"0 0 24 24\"\n",
              "       width=\"24px\">\n",
              "    <path d=\"M0 0h24v24H0V0z\" fill=\"none\"/>\n",
              "    <path d=\"M18.56 5.44l.94 2.06.94-2.06 2.06-.94-2.06-.94-.94-2.06-.94 2.06-2.06.94zm-11 1L8.5 8.5l.94-2.06 2.06-.94-2.06-.94L8.5 2.5l-.94 2.06-2.06.94zm10 10l.94 2.06.94-2.06 2.06-.94-2.06-.94-.94-2.06-.94 2.06-2.06.94z\"/><path d=\"M17.41 7.96l-1.37-1.37c-.4-.4-.92-.59-1.43-.59-.52 0-1.04.2-1.43.59L10.3 9.45l-7.72 7.72c-.78.78-.78 2.05 0 2.83L4 21.41c.39.39.9.59 1.41.59.51 0 1.02-.2 1.41-.59l7.78-7.78 2.81-2.81c.8-.78.8-2.07 0-2.86zM5.41 20L4 18.59l7.72-7.72 1.47 1.35L5.41 20z\"/>\n",
              "  </svg>\n",
              "      </button>\n",
              "      \n",
              "  <style>\n",
              "    .colab-df-container {\n",
              "      display:flex;\n",
              "      flex-wrap:wrap;\n",
              "      gap: 12px;\n",
              "    }\n",
              "\n",
              "    .colab-df-convert {\n",
              "      background-color: #E8F0FE;\n",
              "      border: none;\n",
              "      border-radius: 50%;\n",
              "      cursor: pointer;\n",
              "      display: none;\n",
              "      fill: #1967D2;\n",
              "      height: 32px;\n",
              "      padding: 0 0 0 0;\n",
              "      width: 32px;\n",
              "    }\n",
              "\n",
              "    .colab-df-convert:hover {\n",
              "      background-color: #E2EBFA;\n",
              "      box-shadow: 0px 1px 2px rgba(60, 64, 67, 0.3), 0px 1px 3px 1px rgba(60, 64, 67, 0.15);\n",
              "      fill: #174EA6;\n",
              "    }\n",
              "\n",
              "    [theme=dark] .colab-df-convert {\n",
              "      background-color: #3B4455;\n",
              "      fill: #D2E3FC;\n",
              "    }\n",
              "\n",
              "    [theme=dark] .colab-df-convert:hover {\n",
              "      background-color: #434B5C;\n",
              "      box-shadow: 0px 1px 3px 1px rgba(0, 0, 0, 0.15);\n",
              "      filter: drop-shadow(0px 1px 2px rgba(0, 0, 0, 0.3));\n",
              "      fill: #FFFFFF;\n",
              "    }\n",
              "  </style>\n",
              "\n",
              "      <script>\n",
              "        const buttonEl =\n",
              "          document.querySelector('#df-71b30e57-a936-48a8-ae85-5da7fb2b09b5 button.colab-df-convert');\n",
              "        buttonEl.style.display =\n",
              "          google.colab.kernel.accessAllowed ? 'block' : 'none';\n",
              "\n",
              "        async function convertToInteractive(key) {\n",
              "          const element = document.querySelector('#df-71b30e57-a936-48a8-ae85-5da7fb2b09b5');\n",
              "          const dataTable =\n",
              "            await google.colab.kernel.invokeFunction('convertToInteractive',\n",
              "                                                     [key], {});\n",
              "          if (!dataTable) return;\n",
              "\n",
              "          const docLinkHtml = 'Like what you see? Visit the ' +\n",
              "            '<a target=\"_blank\" href=https://colab.research.google.com/notebooks/data_table.ipynb>data table notebook</a>'\n",
              "            + ' to learn more about interactive tables.';\n",
              "          element.innerHTML = '';\n",
              "          dataTable['output_type'] = 'display_data';\n",
              "          await google.colab.output.renderOutput(dataTable, element);\n",
              "          const docLink = document.createElement('div');\n",
              "          docLink.innerHTML = docLinkHtml;\n",
              "          element.appendChild(docLink);\n",
              "        }\n",
              "      </script>\n",
              "    </div>\n",
              "  </div>\n",
              "  "
            ]
          },
          "metadata": {},
          "execution_count": 52
        }
      ],
      "source": [
        "df.tail(10)"
      ]
    },
    {
      "cell_type": "code",
      "execution_count": null,
      "metadata": {
        "id": "JPL7TQnAkpwa"
      },
      "outputs": [],
      "source": [
        "import re\n",
        "def clean_tweet(tweet):\n",
        "    return ' '.join(re.sub('(@[A-Za-z0-9]+)|([^0-9A-Za-z \\t])|(\\w+:\\/\\/\\S+)|([RT])', ' ', str(tweet).lower()).split())"
      ]
    },
    {
      "cell_type": "code",
      "execution_count": null,
      "metadata": {
        "id": "AzpqJtRxkupQ"
      },
      "outputs": [],
      "source": [
        "from textblob import TextBlob\n",
        "def analyze_sentiment(tweet):\n",
        "    analysis = TextBlob(tweet)\n",
        "    if analysis.sentiment.polarity > 0:\n",
        "        return 'Positive'\n",
        "    elif analysis.sentiment.polarity == 0:\n",
        "        return 'Neutral'\n",
        "    else:\n",
        "        return 'Negative'"
      ]
    },
    {
      "cell_type": "code",
      "execution_count": null,
      "metadata": {
        "id": "d_BvPuBNkxuP"
      },
      "outputs": [],
      "source": [
        "def prepCloud(Topic_text,Topic):\n",
        "    Topic = str(Topic).lower()\n",
        "    Topic=' '.join(re.sub('([^0-9A-Za-z \\t])', ' ', Topic).split())\n",
        "    Topic = re.split(\"\\s+\",str(Topic))\n",
        "    stopwords = set(STOPWORDS)\n",
        "    stopwords.update(Topic) ### Add our topic in Stopwords, so it doesnt appear in wordClous\n",
        "    ###\n",
        "    text_new = \" \".join([txt for txt in Topic_text.split() if txt not in stopwords])\n",
        "    return text_new"
      ]
    },
    {
      "cell_type": "code",
      "execution_count": null,
      "metadata": {
        "id": "2RXHgpaYk0aU",
        "colab": {
          "base_uri": "https://localhost:8080/",
          "height": 597
        },
        "outputId": "81819c2b-0559-4002-d050-d4f2e09a536e"
      },
      "outputs": [
        {
          "output_type": "execute_result",
          "data": {
            "text/plain": [
              "                  Date              User IsVerified  \\\n",
              "0  2023-02-11 11:40:47       Mukesh yogi      False   \n",
              "1  2023-02-11 11:40:44        Chhabinath      False   \n",
              "2  2023-02-11 11:40:30  Moonboy🤑⚡️(💙,🧡)🛸      False   \n",
              "3  2023-02-11 11:40:13       Sshom (शउम)      False   \n",
              "4  2023-02-11 11:40:10             Sunny      False   \n",
              "\n",
              "                                               Tweet Likes RT  \\\n",
              "0  @news24tvchannel @narendramodi Be careful trip...     0  0   \n",
              "1  @DrjpreddyReddy @pbhushan1 Amazon, Google,fb a...     0  0   \n",
              "2  India's Finance Minister Answers Crypto Regula...     0  0   \n",
              "3  Woes of Adani Group | Losses so far | Hindenbu...     0  0   \n",
              "4  @TimBuckleyCEF @gautam_adani @HindenburgRes @p...     0  0   \n",
              "\n",
              "          User_location                                        clean_tweet  \\\n",
              "0                        be careful tripura people he is magician he de...   \n",
              "1  Uttar Pradesh, India  amazon google fb are running on their own reso...   \n",
              "2    billythecrypto.eth  india s finance minister answers crypto regula...   \n",
              "3                  भारत  woes of adani group losses so far hindenburg r...   \n",
              "4           Waddananggu  adani been waiting for a while to see this hea...   \n",
              "\n",
              "  Sentiment  \n",
              "0  Negative  \n",
              "1  Positive  \n",
              "2   Neutral  \n",
              "3  Positive  \n",
              "4   Neutral  "
            ],
            "text/html": [
              "\n",
              "  <div id=\"df-27a776a8-35e3-4222-8e0d-ccb9d7b9ad08\">\n",
              "    <div class=\"colab-df-container\">\n",
              "      <div>\n",
              "<style scoped>\n",
              "    .dataframe tbody tr th:only-of-type {\n",
              "        vertical-align: middle;\n",
              "    }\n",
              "\n",
              "    .dataframe tbody tr th {\n",
              "        vertical-align: top;\n",
              "    }\n",
              "\n",
              "    .dataframe thead th {\n",
              "        text-align: right;\n",
              "    }\n",
              "</style>\n",
              "<table border=\"1\" class=\"dataframe\">\n",
              "  <thead>\n",
              "    <tr style=\"text-align: right;\">\n",
              "      <th></th>\n",
              "      <th>Date</th>\n",
              "      <th>User</th>\n",
              "      <th>IsVerified</th>\n",
              "      <th>Tweet</th>\n",
              "      <th>Likes</th>\n",
              "      <th>RT</th>\n",
              "      <th>User_location</th>\n",
              "      <th>clean_tweet</th>\n",
              "      <th>Sentiment</th>\n",
              "    </tr>\n",
              "  </thead>\n",
              "  <tbody>\n",
              "    <tr>\n",
              "      <th>0</th>\n",
              "      <td>2023-02-11 11:40:47</td>\n",
              "      <td>Mukesh yogi</td>\n",
              "      <td>False</td>\n",
              "      <td>@news24tvchannel @narendramodi Be careful trip...</td>\n",
              "      <td>0</td>\n",
              "      <td>0</td>\n",
              "      <td></td>\n",
              "      <td>be careful tripura people he is magician he de...</td>\n",
              "      <td>Negative</td>\n",
              "    </tr>\n",
              "    <tr>\n",
              "      <th>1</th>\n",
              "      <td>2023-02-11 11:40:44</td>\n",
              "      <td>Chhabinath</td>\n",
              "      <td>False</td>\n",
              "      <td>@DrjpreddyReddy @pbhushan1 Amazon, Google,fb a...</td>\n",
              "      <td>0</td>\n",
              "      <td>0</td>\n",
              "      <td>Uttar Pradesh, India</td>\n",
              "      <td>amazon google fb are running on their own reso...</td>\n",
              "      <td>Positive</td>\n",
              "    </tr>\n",
              "    <tr>\n",
              "      <th>2</th>\n",
              "      <td>2023-02-11 11:40:30</td>\n",
              "      <td>Moonboy🤑⚡️(💙,🧡)🛸</td>\n",
              "      <td>False</td>\n",
              "      <td>India's Finance Minister Answers Crypto Regula...</td>\n",
              "      <td>0</td>\n",
              "      <td>0</td>\n",
              "      <td>billythecrypto.eth</td>\n",
              "      <td>india s finance minister answers crypto regula...</td>\n",
              "      <td>Neutral</td>\n",
              "    </tr>\n",
              "    <tr>\n",
              "      <th>3</th>\n",
              "      <td>2023-02-11 11:40:13</td>\n",
              "      <td>Sshom (शउम)</td>\n",
              "      <td>False</td>\n",
              "      <td>Woes of Adani Group | Losses so far | Hindenbu...</td>\n",
              "      <td>0</td>\n",
              "      <td>0</td>\n",
              "      <td>भारत</td>\n",
              "      <td>woes of adani group losses so far hindenburg r...</td>\n",
              "      <td>Positive</td>\n",
              "    </tr>\n",
              "    <tr>\n",
              "      <th>4</th>\n",
              "      <td>2023-02-11 11:40:10</td>\n",
              "      <td>Sunny</td>\n",
              "      <td>False</td>\n",
              "      <td>@TimBuckleyCEF @gautam_adani @HindenburgRes @p...</td>\n",
              "      <td>0</td>\n",
              "      <td>0</td>\n",
              "      <td>Waddananggu</td>\n",
              "      <td>adani been waiting for a while to see this hea...</td>\n",
              "      <td>Neutral</td>\n",
              "    </tr>\n",
              "  </tbody>\n",
              "</table>\n",
              "</div>\n",
              "      <button class=\"colab-df-convert\" onclick=\"convertToInteractive('df-27a776a8-35e3-4222-8e0d-ccb9d7b9ad08')\"\n",
              "              title=\"Convert this dataframe to an interactive table.\"\n",
              "              style=\"display:none;\">\n",
              "        \n",
              "  <svg xmlns=\"http://www.w3.org/2000/svg\" height=\"24px\"viewBox=\"0 0 24 24\"\n",
              "       width=\"24px\">\n",
              "    <path d=\"M0 0h24v24H0V0z\" fill=\"none\"/>\n",
              "    <path d=\"M18.56 5.44l.94 2.06.94-2.06 2.06-.94-2.06-.94-.94-2.06-.94 2.06-2.06.94zm-11 1L8.5 8.5l.94-2.06 2.06-.94-2.06-.94L8.5 2.5l-.94 2.06-2.06.94zm10 10l.94 2.06.94-2.06 2.06-.94-2.06-.94-.94-2.06-.94 2.06-2.06.94z\"/><path d=\"M17.41 7.96l-1.37-1.37c-.4-.4-.92-.59-1.43-.59-.52 0-1.04.2-1.43.59L10.3 9.45l-7.72 7.72c-.78.78-.78 2.05 0 2.83L4 21.41c.39.39.9.59 1.41.59.51 0 1.02-.2 1.41-.59l7.78-7.78 2.81-2.81c.8-.78.8-2.07 0-2.86zM5.41 20L4 18.59l7.72-7.72 1.47 1.35L5.41 20z\"/>\n",
              "  </svg>\n",
              "      </button>\n",
              "      \n",
              "  <style>\n",
              "    .colab-df-container {\n",
              "      display:flex;\n",
              "      flex-wrap:wrap;\n",
              "      gap: 12px;\n",
              "    }\n",
              "\n",
              "    .colab-df-convert {\n",
              "      background-color: #E8F0FE;\n",
              "      border: none;\n",
              "      border-radius: 50%;\n",
              "      cursor: pointer;\n",
              "      display: none;\n",
              "      fill: #1967D2;\n",
              "      height: 32px;\n",
              "      padding: 0 0 0 0;\n",
              "      width: 32px;\n",
              "    }\n",
              "\n",
              "    .colab-df-convert:hover {\n",
              "      background-color: #E2EBFA;\n",
              "      box-shadow: 0px 1px 2px rgba(60, 64, 67, 0.3), 0px 1px 3px 1px rgba(60, 64, 67, 0.15);\n",
              "      fill: #174EA6;\n",
              "    }\n",
              "\n",
              "    [theme=dark] .colab-df-convert {\n",
              "      background-color: #3B4455;\n",
              "      fill: #D2E3FC;\n",
              "    }\n",
              "\n",
              "    [theme=dark] .colab-df-convert:hover {\n",
              "      background-color: #434B5C;\n",
              "      box-shadow: 0px 1px 3px 1px rgba(0, 0, 0, 0.15);\n",
              "      filter: drop-shadow(0px 1px 2px rgba(0, 0, 0, 0.3));\n",
              "      fill: #FFFFFF;\n",
              "    }\n",
              "  </style>\n",
              "\n",
              "      <script>\n",
              "        const buttonEl =\n",
              "          document.querySelector('#df-27a776a8-35e3-4222-8e0d-ccb9d7b9ad08 button.colab-df-convert');\n",
              "        buttonEl.style.display =\n",
              "          google.colab.kernel.accessAllowed ? 'block' : 'none';\n",
              "\n",
              "        async function convertToInteractive(key) {\n",
              "          const element = document.querySelector('#df-27a776a8-35e3-4222-8e0d-ccb9d7b9ad08');\n",
              "          const dataTable =\n",
              "            await google.colab.kernel.invokeFunction('convertToInteractive',\n",
              "                                                     [key], {});\n",
              "          if (!dataTable) return;\n",
              "\n",
              "          const docLinkHtml = 'Like what you see? Visit the ' +\n",
              "            '<a target=\"_blank\" href=https://colab.research.google.com/notebooks/data_table.ipynb>data table notebook</a>'\n",
              "            + ' to learn more about interactive tables.';\n",
              "          element.innerHTML = '';\n",
              "          dataTable['output_type'] = 'display_data';\n",
              "          await google.colab.output.renderOutput(dataTable, element);\n",
              "          const docLink = document.createElement('div');\n",
              "          docLink.innerHTML = docLinkHtml;\n",
              "          element.appendChild(docLink);\n",
              "        }\n",
              "      </script>\n",
              "    </div>\n",
              "  </div>\n",
              "  "
            ]
          },
          "metadata": {},
          "execution_count": 63
        }
      ],
      "source": [
        "df['clean_tweet'] = df['Tweet'].apply(lambda x : clean_tweet(x))\n",
        "df.head(5)"
      ]
    },
    {
      "cell_type": "code",
      "execution_count": null,
      "metadata": {
        "id": "UcrtYVgpk2hM",
        "colab": {
          "base_uri": "https://localhost:8080/",
          "height": 597
        },
        "outputId": "63747267-ab62-41a9-bf62-df36d90338e7"
      },
      "outputs": [
        {
          "output_type": "execute_result",
          "data": {
            "text/plain": [
              "                  Date              User IsVerified  \\\n",
              "0  2023-02-11 11:40:47       Mukesh yogi      False   \n",
              "1  2023-02-11 11:40:44        Chhabinath      False   \n",
              "2  2023-02-11 11:40:30  Moonboy🤑⚡️(💙,🧡)🛸      False   \n",
              "3  2023-02-11 11:40:13       Sshom (शउम)      False   \n",
              "4  2023-02-11 11:40:10             Sunny      False   \n",
              "\n",
              "                                               Tweet Likes RT  \\\n",
              "0  @news24tvchannel @narendramodi Be careful trip...     0  0   \n",
              "1  @DrjpreddyReddy @pbhushan1 Amazon, Google,fb a...     0  0   \n",
              "2  India's Finance Minister Answers Crypto Regula...     0  0   \n",
              "3  Woes of Adani Group | Losses so far | Hindenbu...     0  0   \n",
              "4  @TimBuckleyCEF @gautam_adani @HindenburgRes @p...     0  0   \n",
              "\n",
              "          User_location                                        clean_tweet  \\\n",
              "0                        be careful tripura people he is magician he de...   \n",
              "1  Uttar Pradesh, India  amazon google fb are running on their own reso...   \n",
              "2    billythecrypto.eth  india s finance minister answers crypto regula...   \n",
              "3                  भारत  woes of adani group losses so far hindenburg r...   \n",
              "4           Waddananggu  adani been waiting for a while to see this hea...   \n",
              "\n",
              "  Sentiment  \n",
              "0  Negative  \n",
              "1  Positive  \n",
              "2   Neutral  \n",
              "3  Positive  \n",
              "4   Neutral  "
            ],
            "text/html": [
              "\n",
              "  <div id=\"df-77859a30-b68b-400c-86bc-8a6e9bd7a455\">\n",
              "    <div class=\"colab-df-container\">\n",
              "      <div>\n",
              "<style scoped>\n",
              "    .dataframe tbody tr th:only-of-type {\n",
              "        vertical-align: middle;\n",
              "    }\n",
              "\n",
              "    .dataframe tbody tr th {\n",
              "        vertical-align: top;\n",
              "    }\n",
              "\n",
              "    .dataframe thead th {\n",
              "        text-align: right;\n",
              "    }\n",
              "</style>\n",
              "<table border=\"1\" class=\"dataframe\">\n",
              "  <thead>\n",
              "    <tr style=\"text-align: right;\">\n",
              "      <th></th>\n",
              "      <th>Date</th>\n",
              "      <th>User</th>\n",
              "      <th>IsVerified</th>\n",
              "      <th>Tweet</th>\n",
              "      <th>Likes</th>\n",
              "      <th>RT</th>\n",
              "      <th>User_location</th>\n",
              "      <th>clean_tweet</th>\n",
              "      <th>Sentiment</th>\n",
              "    </tr>\n",
              "  </thead>\n",
              "  <tbody>\n",
              "    <tr>\n",
              "      <th>0</th>\n",
              "      <td>2023-02-11 11:40:47</td>\n",
              "      <td>Mukesh yogi</td>\n",
              "      <td>False</td>\n",
              "      <td>@news24tvchannel @narendramodi Be careful trip...</td>\n",
              "      <td>0</td>\n",
              "      <td>0</td>\n",
              "      <td></td>\n",
              "      <td>be careful tripura people he is magician he de...</td>\n",
              "      <td>Negative</td>\n",
              "    </tr>\n",
              "    <tr>\n",
              "      <th>1</th>\n",
              "      <td>2023-02-11 11:40:44</td>\n",
              "      <td>Chhabinath</td>\n",
              "      <td>False</td>\n",
              "      <td>@DrjpreddyReddy @pbhushan1 Amazon, Google,fb a...</td>\n",
              "      <td>0</td>\n",
              "      <td>0</td>\n",
              "      <td>Uttar Pradesh, India</td>\n",
              "      <td>amazon google fb are running on their own reso...</td>\n",
              "      <td>Positive</td>\n",
              "    </tr>\n",
              "    <tr>\n",
              "      <th>2</th>\n",
              "      <td>2023-02-11 11:40:30</td>\n",
              "      <td>Moonboy🤑⚡️(💙,🧡)🛸</td>\n",
              "      <td>False</td>\n",
              "      <td>India's Finance Minister Answers Crypto Regula...</td>\n",
              "      <td>0</td>\n",
              "      <td>0</td>\n",
              "      <td>billythecrypto.eth</td>\n",
              "      <td>india s finance minister answers crypto regula...</td>\n",
              "      <td>Neutral</td>\n",
              "    </tr>\n",
              "    <tr>\n",
              "      <th>3</th>\n",
              "      <td>2023-02-11 11:40:13</td>\n",
              "      <td>Sshom (शउम)</td>\n",
              "      <td>False</td>\n",
              "      <td>Woes of Adani Group | Losses so far | Hindenbu...</td>\n",
              "      <td>0</td>\n",
              "      <td>0</td>\n",
              "      <td>भारत</td>\n",
              "      <td>woes of adani group losses so far hindenburg r...</td>\n",
              "      <td>Positive</td>\n",
              "    </tr>\n",
              "    <tr>\n",
              "      <th>4</th>\n",
              "      <td>2023-02-11 11:40:10</td>\n",
              "      <td>Sunny</td>\n",
              "      <td>False</td>\n",
              "      <td>@TimBuckleyCEF @gautam_adani @HindenburgRes @p...</td>\n",
              "      <td>0</td>\n",
              "      <td>0</td>\n",
              "      <td>Waddananggu</td>\n",
              "      <td>adani been waiting for a while to see this hea...</td>\n",
              "      <td>Neutral</td>\n",
              "    </tr>\n",
              "  </tbody>\n",
              "</table>\n",
              "</div>\n",
              "      <button class=\"colab-df-convert\" onclick=\"convertToInteractive('df-77859a30-b68b-400c-86bc-8a6e9bd7a455')\"\n",
              "              title=\"Convert this dataframe to an interactive table.\"\n",
              "              style=\"display:none;\">\n",
              "        \n",
              "  <svg xmlns=\"http://www.w3.org/2000/svg\" height=\"24px\"viewBox=\"0 0 24 24\"\n",
              "       width=\"24px\">\n",
              "    <path d=\"M0 0h24v24H0V0z\" fill=\"none\"/>\n",
              "    <path d=\"M18.56 5.44l.94 2.06.94-2.06 2.06-.94-2.06-.94-.94-2.06-.94 2.06-2.06.94zm-11 1L8.5 8.5l.94-2.06 2.06-.94-2.06-.94L8.5 2.5l-.94 2.06-2.06.94zm10 10l.94 2.06.94-2.06 2.06-.94-2.06-.94-.94-2.06-.94 2.06-2.06.94z\"/><path d=\"M17.41 7.96l-1.37-1.37c-.4-.4-.92-.59-1.43-.59-.52 0-1.04.2-1.43.59L10.3 9.45l-7.72 7.72c-.78.78-.78 2.05 0 2.83L4 21.41c.39.39.9.59 1.41.59.51 0 1.02-.2 1.41-.59l7.78-7.78 2.81-2.81c.8-.78.8-2.07 0-2.86zM5.41 20L4 18.59l7.72-7.72 1.47 1.35L5.41 20z\"/>\n",
              "  </svg>\n",
              "      </button>\n",
              "      \n",
              "  <style>\n",
              "    .colab-df-container {\n",
              "      display:flex;\n",
              "      flex-wrap:wrap;\n",
              "      gap: 12px;\n",
              "    }\n",
              "\n",
              "    .colab-df-convert {\n",
              "      background-color: #E8F0FE;\n",
              "      border: none;\n",
              "      border-radius: 50%;\n",
              "      cursor: pointer;\n",
              "      display: none;\n",
              "      fill: #1967D2;\n",
              "      height: 32px;\n",
              "      padding: 0 0 0 0;\n",
              "      width: 32px;\n",
              "    }\n",
              "\n",
              "    .colab-df-convert:hover {\n",
              "      background-color: #E2EBFA;\n",
              "      box-shadow: 0px 1px 2px rgba(60, 64, 67, 0.3), 0px 1px 3px 1px rgba(60, 64, 67, 0.15);\n",
              "      fill: #174EA6;\n",
              "    }\n",
              "\n",
              "    [theme=dark] .colab-df-convert {\n",
              "      background-color: #3B4455;\n",
              "      fill: #D2E3FC;\n",
              "    }\n",
              "\n",
              "    [theme=dark] .colab-df-convert:hover {\n",
              "      background-color: #434B5C;\n",
              "      box-shadow: 0px 1px 3px 1px rgba(0, 0, 0, 0.15);\n",
              "      filter: drop-shadow(0px 1px 2px rgba(0, 0, 0, 0.3));\n",
              "      fill: #FFFFFF;\n",
              "    }\n",
              "  </style>\n",
              "\n",
              "      <script>\n",
              "        const buttonEl =\n",
              "          document.querySelector('#df-77859a30-b68b-400c-86bc-8a6e9bd7a455 button.colab-df-convert');\n",
              "        buttonEl.style.display =\n",
              "          google.colab.kernel.accessAllowed ? 'block' : 'none';\n",
              "\n",
              "        async function convertToInteractive(key) {\n",
              "          const element = document.querySelector('#df-77859a30-b68b-400c-86bc-8a6e9bd7a455');\n",
              "          const dataTable =\n",
              "            await google.colab.kernel.invokeFunction('convertToInteractive',\n",
              "                                                     [key], {});\n",
              "          if (!dataTable) return;\n",
              "\n",
              "          const docLinkHtml = 'Like what you see? Visit the ' +\n",
              "            '<a target=\"_blank\" href=https://colab.research.google.com/notebooks/data_table.ipynb>data table notebook</a>'\n",
              "            + ' to learn more about interactive tables.';\n",
              "          element.innerHTML = '';\n",
              "          dataTable['output_type'] = 'display_data';\n",
              "          await google.colab.output.renderOutput(dataTable, element);\n",
              "          const docLink = document.createElement('div');\n",
              "          docLink.innerHTML = docLinkHtml;\n",
              "          element.appendChild(docLink);\n",
              "        }\n",
              "      </script>\n",
              "    </div>\n",
              "  </div>\n",
              "  "
            ]
          },
          "metadata": {},
          "execution_count": 64
        }
      ],
      "source": [
        "df[\"Sentiment\"] = df[\"Tweet\"].apply(lambda x : analyze_sentiment(x))\n",
        "df.head(5)"
      ]
    },
    {
      "cell_type": "code",
      "execution_count": null,
      "metadata": {
        "id": "3IILIVOGlBnQ",
        "colab": {
          "base_uri": "https://localhost:8080/"
        },
        "outputId": "fa8eec92-6db2-4ac8-bb5e-8d55505c9e8a"
      },
      "outputs": [
        {
          "output_type": "stream",
          "name": "stdout",
          "text": [
            "Original tweet:\n",
            " U TELL\n",
            "U TELL?\n",
            "PEHLEY aAAP\n",
            "PEHLEY AAP? \n",
            "\n",
            "Adani-Hindenburg row: 'How to ensure protection of investors,' Supreme Cou… https://t.co/nlwtK13xby\n",
            "\n",
            "Clean tweet:\n",
            " u tell u tell pehley aaap pehley aap adani hindenburg row how to ensure protection of investors supreme cou\n",
            "\n",
            "Sentiment of the tweet:\n",
            " Neutral\n"
          ]
        }
      ],
      "source": [
        "n = 15\n",
        "print(\"Original tweet:\\n\",df['Tweet'][n])\n",
        "print()\n",
        "print(\"Clean tweet:\\n\",df['clean_tweet'][n])\n",
        "print()\n",
        "print(\"Sentiment of the tweet:\\n\",df['Sentiment'][n])"
      ]
    },
    {
      "cell_type": "code",
      "execution_count": null,
      "metadata": {
        "id": "v971viONlE9I",
        "colab": {
          "base_uri": "https://localhost:8080/"
        },
        "outputId": "62e9ee0b-12c9-4f6a-d894-7cb24aa78dee"
      },
      "outputs": [
        {
          "output_type": "stream",
          "name": "stdout",
          "text": [
            "Total Tweets Extracted for Topic : ['Adani'] are : 101\n",
            "Total Positive Tweets are : 35\n",
            "Total Negative Tweets are : 22\n",
            "Total Neutral Tweets are : 44\n"
          ]
        }
      ],
      "source": [
        "print(\"Total Tweets Extracted for Topic : {} are : {}\".format(Topic,len(df.Tweet)))\n",
        "print(\"Total Positive Tweets are : {}\".format(len(df[df[\"Sentiment\"]==\"Positive\"])))\n",
        "print(\"Total Negative Tweets are : {}\".format(len(df[df[\"Sentiment\"]==\"Negative\"])))\n",
        "print(\"Total Neutral Tweets are : {}\".format(len(df[df[\"Sentiment\"]==\"Neutral\"])))"
      ]
    },
    {
      "cell_type": "code",
      "execution_count": null,
      "metadata": {
        "id": "5zs1jK5BlH6U",
        "colab": {
          "base_uri": "https://localhost:8080/"
        },
        "outputId": "cc0446d8-c3da-450b-f56f-78b408510a89"
      },
      "outputs": [
        {
          "output_type": "execute_result",
          "data": {
            "text/plain": [
              "Neutral     44\n",
              "Positive    35\n",
              "Negative    22\n",
              "Name: Sentiment, dtype: int64"
            ]
          },
          "metadata": {},
          "execution_count": 66
        }
      ],
      "source": [
        "df[\"Sentiment\"].value_counts()"
      ]
    },
    {
      "cell_type": "code",
      "execution_count": null,
      "metadata": {
        "id": "Zv58TxlOlJ5U",
        "colab": {
          "base_uri": "https://localhost:8080/",
          "height": 367
        },
        "outputId": "74594eb6-4b87-4e1b-9a6e-3cf4c58986ce"
      },
      "outputs": [
        {
          "output_type": "stream",
          "name": "stderr",
          "text": [
            "/usr/local/lib/python3.8/dist-packages/seaborn/_decorators.py:36: FutureWarning: Pass the following variable as a keyword arg: x. From version 0.12, the only valid positional argument will be `data`, and passing other arguments without an explicit keyword will result in an error or misinterpretation.\n",
            "  warnings.warn(\n"
          ]
        },
        {
          "output_type": "execute_result",
          "data": {
            "text/plain": [
              "Text(0.5, 1.0, 'Summary of Counts for Total tweets')"
            ]
          },
          "metadata": {},
          "execution_count": 67
        },
        {
          "output_type": "display_data",
          "data": {
            "text/plain": [
              "<Figure size 432x288 with 1 Axes>"
            ],
            "image/png": "[encoded data removed]"
          },
          "metadata": {
            "needs_background": "light"
          }
        }
      ],
      "source": [
        "sns.countplot(df[\"Sentiment\"])\n",
        "plt.title(\"Summary of Counts for Total tweets\")"
      ]
    },
    {
      "cell_type": "code",
      "execution_count": null,
      "metadata": {
        "id": "npopSBdflMfE",
        "colab": {
          "base_uri": "https://localhost:8080/",
          "height": 248
        },
        "outputId": "8bf59824-1a31-4730-8715-2001b3dcb102"
      },
      "outputs": [
        {
          "output_type": "display_data",
          "data": {
            "text/plain": [
              "<Figure size 432x288 with 1 Axes>"
            ],
            "image/png": "[encoded data removed]"
          },
          "metadata": {}
        }
      ],
      "source": [
        "a=len(df[df[\"Sentiment\"]==\"Positive\"])\n",
        "b=len(df[df[\"Sentiment\"]==\"Negative\"])\n",
        "c=len(df[df[\"Sentiment\"]==\"Neutral\"])\n",
        "d=np.array([a,b,c])\n",
        "explode = (0.1, 0.0, 0.1)\n",
        "plt.pie(d,shadow=True,explode=explode,labels=[\"Positive\",\"Negative\",\"Neutral\"],autopct='%1.2f%%');"
      ]
    },
    {
      "cell_type": "code",
      "execution_count": null,
      "metadata": {
        "id": "5ohX9F2flPFR",
        "colab": {
          "base_uri": "https://localhost:8080/",
          "height": 384
        },
        "outputId": "262fdf7a-8f77-4eb0-b2c3-44de1649ece9"
      },
      "outputs": [
        {
          "output_type": "stream",
          "name": "stderr",
          "text": [
            "/usr/local/lib/python3.8/dist-packages/seaborn/_decorators.py:36: FutureWarning: Pass the following variable as a keyword arg: x. From version 0.12, the only valid positional argument will be `data`, and passing other arguments without an explicit keyword will result in an error or misinterpretation.\n",
            "  warnings.warn(\n"
          ]
        },
        {
          "output_type": "execute_result",
          "data": {
            "text/plain": [
              "Text(0.5, 1.0, 'Summary of Counts for Total tweets,Distributed by if the User has a verified Account or not')"
            ]
          },
          "metadata": {},
          "execution_count": 69
        },
        {
          "output_type": "display_data",
          "data": {
            "text/plain": [
              "<Figure size 432x288 with 1 Axes>"
            ],
            "image/png": "[encoded data removed]"
          },
          "metadata": {
            "needs_background": "light"
          }
        }
      ],
      "source": [
        "sns.countplot(df[\"Sentiment\"],hue=df.IsVerified)\n",
        "plt.title(\"Summary of Counts for Total tweets,Distributed by if the User has a verified Account or not\")"
      ]
    },
    {
      "cell_type": "code",
      "source": [],
      "metadata": {
        "id": "aI3StSbLzCMn"
      },
      "execution_count": null,
      "outputs": []
    }
  ],
  "metadata": {
    "colab": {
      "provenance": []
    },
    "kernelspec": {
      "display_name": "Python 3",
      "name": "python3"
    },
    "language_info": {
      "name": "python"
    }
  },
  "nbformat": 4,
  "nbformat_minor": 0
}