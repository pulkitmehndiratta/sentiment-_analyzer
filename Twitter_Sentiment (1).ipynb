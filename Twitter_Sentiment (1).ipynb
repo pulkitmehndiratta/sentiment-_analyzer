{
  "cells": [
    {
      "cell_type": "code",
      "execution_count": 1,
      "metadata": {
        "id": "3oR2-9XYkD2n"
      },
      "outputs": [],
      "source": [
        "import pandas as pd\n",
        "import numpy as np\n",
        "import matplotlib.pyplot as plt\n",
        "import seaborn as sns\n",
        "\n",
        "import tweepy\n",
        "from tweepy import OAuthHandler"
      ]
    },
    {
      "cell_type": "code",
      "execution_count": 3,
      "metadata": {
        "id": "EP6CWnDukHBz"
      },
      "outputs": [],
      "source": [
        "consumer_key = 'eB1MnSkURFn1g2OwqkUP4Cgne'\n",
        "consumer_secret = 'pW9rMY7D5ErWe9Ky8z05HczHeifcrJ7yE6omreTNjePdUyRl83'\n",
        "access_token = '172835284-4v3mtpWzrazHN861ew2Q3mDtntMqylttjOtTqXTr'\n",
        "access_token_secret = 'fct7pJSujNpK5IcSKUVecBCT0PX8ACbdJYnYzAy0PSobl'"
      ]
    },
    {
      "cell_type": "code",
      "execution_count": 4,
      "metadata": {
        "id": "PwRQ8QeGkNnR"
      },
      "outputs": [],
      "source": [
        "auth = tweepy.OAuthHandler( consumer_key , consumer_secret )\n",
        "auth.set_access_token( access_token , access_token_secret )\n",
        "api = tweepy.API(auth)"
      ]
    },
    {
      "cell_type": "code",
      "source": [],
      "metadata": {
        "id": "5MO-DKTiNIIo"
      },
      "execution_count": null,
      "outputs": []
    },
    {
      "cell_type": "code",
      "execution_count": 5,
      "metadata": {
        "colab": {
          "base_uri": "https://localhost:8080/"
        },
        "id": "xozRBrzekZSw",
        "outputId": "3ebac25d-f7f9-4f99-c587-47818a368e02"
      },
      "outputs": [
        {
          "output_type": "stream",
          "name": "stdout",
          "text": [
            "Empty DataFrame\n",
            "Columns: [Date, User, IsVerified, Tweet, Likes, RT, User_location]\n",
            "Index: []\n"
          ]
        }
      ],
      "source": [
        "df = pd.DataFrame(columns=[\"Date\",\"User\",\"IsVerified\",\"Tweet\",\"Likes\",\"RT\",'User_location'])\n",
        "print(df)"
      ]
    },
    {
      "cell_type": "code",
      "execution_count": null,
      "metadata": {
        "id": "rsYUgyUmkgW1"
      },
      "outputs": [],
      "source": [
        "def get_tweets(Topic,Count):    \n",
        "    i=0\n",
        "    for tweet in tweepy.Cursor(api.search, q=Topic,count=100, lang=\"en\",exclude='retweets').items():\n",
        "        print(i, end='\\r')\n",
        "        df.loc[i,\"Date\"] = tweet.created_at\n",
        "        df.loc[i,\"User\"] = tweet.user.name\n",
        "        df.loc[i,\"IsVerified\"] = tweet.user.verified\n",
        "        df.loc[i,\"Tweet\"] = tweet.text\n",
        "        df.loc[i,\"Likes\"] = tweet.favorite_count\n",
        "        df.loc[i,\"RT\"] = tweet.retweet_count\n",
        "        df.loc[i,\"User_location\"] = tweet.user.location\n",
        "        #df.to_csv(\"TweetDataset.csv\",index=False)\n",
        "        df.to_excel('{}.xlsx'.format(\"TweetDataset\"),index=False)   ## Save as Excel\n",
        "        i=i+1\n",
        "        if i>Count:\n",
        "            break\n",
        "        else:\n",
        "            pass"
      ]
    },
    {
      "cell_type": "code",
      "execution_count": null,
      "metadata": {
        "id": "KzXzPgHOkjq4",
        "colab": {
          "base_uri": "https://localhost:8080/"
        },
        "outputId": "59cff40a-df54-4fb4-be33-4c52b216514c"
      },
      "outputs": [
        {
          "output_type": "stream",
          "name": "stdout",
          "text": []
        }
      ],
      "source": [
        "Topic=[\"Udaipur\"]\n",
        "get_tweets(Topic , Count=100)"
      ]
    },
    {
      "cell_type": "code",
      "execution_count": null,
      "metadata": {
        "id": "xRkWF8fikmpk",
        "colab": {
          "base_uri": "https://localhost:8080/",
          "height": 754
        },
        "outputId": "c62af0f5-1d73-4ec0-f3ee-9e7c63f66e1a"
      },
      "outputs": [
        {
          "output_type": "execute_result",
          "data": {
            "text/plain": [
              "                    Date                    User IsVerified  \\\n",
              "91   2023-01-27 08:12:46           Mitalee Pawar      False   \n",
              "92   2023-01-27 08:09:00      Virendra Shaktawat      False   \n",
              "93   2023-01-27 08:02:20  Springboard Memes Adda      False   \n",
              "94   2023-01-27 07:50:03              abhi_yrkkh      False   \n",
              "95   2023-01-27 07:48:19            Raj Upadhyay      False   \n",
              "96   2023-01-27 07:47:39            UdaipurTimes      False   \n",
              "97   2023-01-27 07:47:25           Saksham Singh      False   \n",
              "98   2023-01-27 07:43:32            Supriya .b.s      False   \n",
              "99   2023-01-27 07:38:48           Mitalee Pawar      False   \n",
              "100  2023-01-27 07:35:52         Tanjiro( harry)      False   \n",
              "\n",
              "                                                 Tweet Likes RT  User_location  \n",
              "91   @Nagasur33712963 Yss thts why this week rula r...     0  0                 \n",
              "92   @SamsungIndia @Samsung #horrible #experiences ...     0  1                 \n",
              "93   Follow @sbmemesadda \\n\\nOther social media : \\...    68  0  Jaipur, India  \n",
              "94   No but half of the fd is filled with delusiona...     5  2                 \n",
              "95   @kamaalrkhan Completely wrong analysis, recent...     1  0                 \n",
              "96   The year's most anticipated film PATHAAN is ru...     0  0        Udaipur  \n",
              "97   It's only the first month since semester has s...     1  0                 \n",
              "98   @floating_point_ @_sporsha_ @OnlyLoveHarshuu A...     0  0                 \n",
              "99   Infact last week episodes were really good bt ...     4  0                 \n",
              "100  SAH  Polymers Ltd has successfully commissione...     3  2       mainland  "
            ],
            "text/html": [
              "\n",
              "  <div id=\"df-75691f5f-aa65-4ae0-817b-05af18088d27\">\n",
              "    <div class=\"colab-df-container\">\n",
              "      <div>\n",
              "<style scoped>\n",
              "    .dataframe tbody tr th:only-of-type {\n",
              "        vertical-align: middle;\n",
              "    }\n",
              "\n",
              "    .dataframe tbody tr th {\n",
              "        vertical-align: top;\n",
              "    }\n",
              "\n",
              "    .dataframe thead th {\n",
              "        text-align: right;\n",
              "    }\n",
              "</style>\n",
              "<table border=\"1\" class=\"dataframe\">\n",
              "  <thead>\n",
              "    <tr style=\"text-align: right;\">\n",
              "      <th></th>\n",
              "      <th>Date</th>\n",
              "      <th>User</th>\n",
              "      <th>IsVerified</th>\n",
              "      <th>Tweet</th>\n",
              "      <th>Likes</th>\n",
              "      <th>RT</th>\n",
              "      <th>User_location</th>\n",
              "    </tr>\n",
              "  </thead>\n",
              "  <tbody>\n",
              "    <tr>\n",
              "      <th>91</th>\n",
              "      <td>2023-01-27 08:12:46</td>\n",
              "      <td>Mitalee Pawar</td>\n",
              "      <td>False</td>\n",
              "      <td>@Nagasur33712963 Yss thts why this week rula r...</td>\n",
              "      <td>0</td>\n",
              "      <td>0</td>\n",
              "      <td></td>\n",
              "    </tr>\n",
              "    <tr>\n",
              "      <th>92</th>\n",
              "      <td>2023-01-27 08:09:00</td>\n",
              "      <td>Virendra Shaktawat</td>\n",
              "      <td>False</td>\n",
              "      <td>@SamsungIndia @Samsung #horrible #experiences ...</td>\n",
              "      <td>0</td>\n",
              "      <td>1</td>\n",
              "      <td></td>\n",
              "    </tr>\n",
              "    <tr>\n",
              "      <th>93</th>\n",
              "      <td>2023-01-27 08:02:20</td>\n",
              "      <td>Springboard Memes Adda</td>\n",
              "      <td>False</td>\n",
              "      <td>Follow @sbmemesadda \\n\\nOther social media : \\...</td>\n",
              "      <td>68</td>\n",
              "      <td>0</td>\n",
              "      <td>Jaipur, India</td>\n",
              "    </tr>\n",
              "    <tr>\n",
              "      <th>94</th>\n",
              "      <td>2023-01-27 07:50:03</td>\n",
              "      <td>abhi_yrkkh</td>\n",
              "      <td>False</td>\n",
              "      <td>No but half of the fd is filled with delusiona...</td>\n",
              "      <td>5</td>\n",
              "      <td>2</td>\n",
              "      <td></td>\n",
              "    </tr>\n",
              "    <tr>\n",
              "      <th>95</th>\n",
              "      <td>2023-01-27 07:48:19</td>\n",
              "      <td>Raj Upadhyay</td>\n",
              "      <td>False</td>\n",
              "      <td>@kamaalrkhan Completely wrong analysis, recent...</td>\n",
              "      <td>1</td>\n",
              "      <td>0</td>\n",
              "      <td></td>\n",
              "    </tr>\n",
              "    <tr>\n",
              "      <th>96</th>\n",
              "      <td>2023-01-27 07:47:39</td>\n",
              "      <td>UdaipurTimes</td>\n",
              "      <td>False</td>\n",
              "      <td>The year's most anticipated film PATHAAN is ru...</td>\n",
              "      <td>0</td>\n",
              "      <td>0</td>\n",
              "      <td>Udaipur</td>\n",
              "    </tr>\n",
              "    <tr>\n",
              "      <th>97</th>\n",
              "      <td>2023-01-27 07:47:25</td>\n",
              "      <td>Saksham Singh</td>\n",
              "      <td>False</td>\n",
              "      <td>It's only the first month since semester has s...</td>\n",
              "      <td>1</td>\n",
              "      <td>0</td>\n",
              "      <td></td>\n",
              "    </tr>\n",
              "    <tr>\n",
              "      <th>98</th>\n",
              "      <td>2023-01-27 07:43:32</td>\n",
              "      <td>Supriya .b.s</td>\n",
              "      <td>False</td>\n",
              "      <td>@floating_point_ @_sporsha_ @OnlyLoveHarshuu A...</td>\n",
              "      <td>0</td>\n",
              "      <td>0</td>\n",
              "      <td></td>\n",
              "    </tr>\n",
              "    <tr>\n",
              "      <th>99</th>\n",
              "      <td>2023-01-27 07:38:48</td>\n",
              "      <td>Mitalee Pawar</td>\n",
              "      <td>False</td>\n",
              "      <td>Infact last week episodes were really good bt ...</td>\n",
              "      <td>4</td>\n",
              "      <td>0</td>\n",
              "      <td></td>\n",
              "    </tr>\n",
              "    <tr>\n",
              "      <th>100</th>\n",
              "      <td>2023-01-27 07:35:52</td>\n",
              "      <td>Tanjiro( harry)</td>\n",
              "      <td>False</td>\n",
              "      <td>SAH  Polymers Ltd has successfully commissione...</td>\n",
              "      <td>3</td>\n",
              "      <td>2</td>\n",
              "      <td>mainland</td>\n",
              "    </tr>\n",
              "  </tbody>\n",
              "</table>\n",
              "</div>\n",
              "      <button class=\"colab-df-convert\" onclick=\"convertToInteractive('df-75691f5f-aa65-4ae0-817b-05af18088d27')\"\n",
              "              title=\"Convert this dataframe to an interactive table.\"\n",
              "              style=\"display:none;\">\n",
              "        \n",
              "  <svg xmlns=\"http://www.w3.org/2000/svg\" height=\"24px\"viewBox=\"0 0 24 24\"\n",
              "       width=\"24px\">\n",
              "    <path d=\"M0 0h24v24H0V0z\" fill=\"none\"/>\n",
              "    <path d=\"M18.56 5.44l.94 2.06.94-2.06 2.06-.94-2.06-.94-.94-2.06-.94 2.06-2.06.94zm-11 1L8.5 8.5l.94-2.06 2.06-.94-2.06-.94L8.5 2.5l-.94 2.06-2.06.94zm10 10l.94 2.06.94-2.06 2.06-.94-2.06-.94-.94-2.06-.94 2.06-2.06.94z\"/><path d=\"M17.41 7.96l-1.37-1.37c-.4-.4-.92-.59-1.43-.59-.52 0-1.04.2-1.43.59L10.3 9.45l-7.72 7.72c-.78.78-.78 2.05 0 2.83L4 21.41c.39.39.9.59 1.41.59.51 0 1.02-.2 1.41-.59l7.78-7.78 2.81-2.81c.8-.78.8-2.07 0-2.86zM5.41 20L4 18.59l7.72-7.72 1.47 1.35L5.41 20z\"/>\n",
              "  </svg>\n",
              "      </button>\n",
              "      \n",
              "  <style>\n",
              "    .colab-df-container {\n",
              "      display:flex;\n",
              "      flex-wrap:wrap;\n",
              "      gap: 12px;\n",
              "    }\n",
              "\n",
              "    .colab-df-convert {\n",
              "      background-color: #E8F0FE;\n",
              "      border: none;\n",
              "      border-radius: 50%;\n",
              "      cursor: pointer;\n",
              "      display: none;\n",
              "      fill: #1967D2;\n",
              "      height: 32px;\n",
              "      padding: 0 0 0 0;\n",
              "      width: 32px;\n",
              "    }\n",
              "\n",
              "    .colab-df-convert:hover {\n",
              "      background-color: #E2EBFA;\n",
              "      box-shadow: 0px 1px 2px rgba(60, 64, 67, 0.3), 0px 1px 3px 1px rgba(60, 64, 67, 0.15);\n",
              "      fill: #174EA6;\n",
              "    }\n",
              "\n",
              "    [theme=dark] .colab-df-convert {\n",
              "      background-color: #3B4455;\n",
              "      fill: #D2E3FC;\n",
              "    }\n",
              "\n",
              "    [theme=dark] .colab-df-convert:hover {\n",
              "      background-color: #434B5C;\n",
              "      box-shadow: 0px 1px 3px 1px rgba(0, 0, 0, 0.15);\n",
              "      filter: drop-shadow(0px 1px 2px rgba(0, 0, 0, 0.3));\n",
              "      fill: #FFFFFF;\n",
              "    }\n",
              "  </style>\n",
              "\n",
              "      <script>\n",
              "        const buttonEl =\n",
              "          document.querySelector('#df-75691f5f-aa65-4ae0-817b-05af18088d27 button.colab-df-convert');\n",
              "        buttonEl.style.display =\n",
              "          google.colab.kernel.accessAllowed ? 'block' : 'none';\n",
              "\n",
              "        async function convertToInteractive(key) {\n",
              "          const element = document.querySelector('#df-75691f5f-aa65-4ae0-817b-05af18088d27');\n",
              "          const dataTable =\n",
              "            await google.colab.kernel.invokeFunction('convertToInteractive',\n",
              "                                                     [key], {});\n",
              "          if (!dataTable) return;\n",
              "\n",
              "          const docLinkHtml = 'Like what you see? Visit the ' +\n",
              "            '<a target=\"_blank\" href=https://colab.research.google.com/notebooks/data_table.ipynb>data table notebook</a>'\n",
              "            + ' to learn more about interactive tables.';\n",
              "          element.innerHTML = '';\n",
              "          dataTable['output_type'] = 'display_data';\n",
              "          await google.colab.output.renderOutput(dataTable, element);\n",
              "          const docLink = document.createElement('div');\n",
              "          docLink.innerHTML = docLinkHtml;\n",
              "          element.appendChild(docLink);\n",
              "        }\n",
              "      </script>\n",
              "    </div>\n",
              "  </div>\n",
              "  "
            ]
          },
          "metadata": {},
          "execution_count": 7
        }
      ],
      "source": [
        "df.tail(10)"
      ]
    },
    {
      "cell_type": "code",
      "execution_count": null,
      "metadata": {
        "id": "JPL7TQnAkpwa"
      },
      "outputs": [],
      "source": [
        "import re\n",
        "def clean_tweet(tweet):\n",
        "    return ' '.join(re.sub('(@[A-Za-z0-9]+)|([^0-9A-Za-z \\t])|(\\w+:\\/\\/\\S+)|([RT])', ' ', str(tweet).lower()).split())"
      ]
    },
    {
      "cell_type": "code",
      "execution_count": null,
      "metadata": {
        "id": "AzpqJtRxkupQ"
      },
      "outputs": [],
      "source": [
        "from textblob import TextBlob\n",
        "def analyze_sentiment(tweet):\n",
        "    analysis = TextBlob(tweet)\n",
        "    if analysis.sentiment.polarity > 0:\n",
        "        return 'Positive'\n",
        "    elif analysis.sentiment.polarity == 0:\n",
        "        return 'Neutral'\n",
        "    else:\n",
        "        return 'Negative'"
      ]
    },
    {
      "cell_type": "code",
      "execution_count": null,
      "metadata": {
        "id": "d_BvPuBNkxuP"
      },
      "outputs": [],
      "source": [
        "def prepCloud(Topic_text,Topic):\n",
        "    Topic = str(Topic).lower()\n",
        "    Topic=' '.join(re.sub('([^0-9A-Za-z \\t])', ' ', Topic).split())\n",
        "    Topic = re.split(\"\\s+\",str(Topic))\n",
        "    stopwords = set(STOPWORDS)\n",
        "    stopwords.update(Topic) ### Add our topic in Stopwords, so it doesnt appear in wordClous\n",
        "    ###\n",
        "    text_new = \" \".join([txt for txt in Topic_text.split() if txt not in stopwords])\n",
        "    return text_new"
      ]
    },
    {
      "cell_type": "code",
      "execution_count": null,
      "metadata": {
        "id": "2RXHgpaYk0aU",
        "colab": {
          "base_uri": "https://localhost:8080/"
        },
        "outputId": "9faf862d-31b2-43cc-abbe-89eb046c430f"
      },
      "outputs": [
        {
          "output_type": "execute_result",
          "data": {
            "text/plain": [
              "                  Date                                               User  \\\n",
              "0  2023-01-28 03:09:56                                         HRH Hotels   \n",
              "1  2023-01-28 02:58:46                                     I LOVE PRANALI   \n",
              "2  2023-01-28 02:58:06  Uttam Pegu/乌塔姆·佩古/Umme Pe'gu/उत्तम पेगू/উত্তম ...   \n",
              "3  2023-01-28 02:35:18                                             Rt9240   \n",
              "4  2023-01-28 02:32:34                                  Rahul Sharma 🏳️‍🌈   \n",
              "\n",
              "  IsVerified                                              Tweet Likes RT  \\\n",
              "0      False  Your dedication, determination, and vision ins...     0  0   \n",
              "1      False  I only tolerated udaipur scenes bcz they menti...     5  0   \n",
              "2      False  @TheNeelkanth @NikonIndia @WildlifeMag @BBCEar...     0  0   \n",
              "3      False  So Manjiri going to d*e once once akshu lands ...     1  0   \n",
              "4      False  This might just be the best picture I've ever ...    11  0   \n",
              "\n",
              "      User_location                                        clean_tweet  \n",
              "0    Udaipur, India  your dedication determination and vision inspi...  \n",
              "1                    i only tolerated udaipur scenes bcz they menti...  \n",
              "2             India                                          rajasthan  \n",
              "3      Bellevue, WA  so manjiri going to d e once once akshu lands ...  \n",
              "4  New Delhi, India  this might just be the best picture i ve ever ...  "
            ],
            "text/html": [
              "\n",
              "  <div id=\"df-fd36fd08-42a6-41fa-9eaf-d48c10e7ef4a\">\n",
              "    <div class=\"colab-df-container\">\n",
              "      <div>\n",
              "<style scoped>\n",
              "    .dataframe tbody tr th:only-of-type {\n",
              "        vertical-align: middle;\n",
              "    }\n",
              "\n",
              "    .dataframe tbody tr th {\n",
              "        vertical-align: top;\n",
              "    }\n",
              "\n",
              "    .dataframe thead th {\n",
              "        text-align: right;\n",
              "    }\n",
              "</style>\n",
              "<table border=\"1\" class=\"dataframe\">\n",
              "  <thead>\n",
              "    <tr style=\"text-align: right;\">\n",
              "      <th></th>\n",
              "      <th>Date</th>\n",
              "      <th>User</th>\n",
              "      <th>IsVerified</th>\n",
              "      <th>Tweet</th>\n",
              "      <th>Likes</th>\n",
              "      <th>RT</th>\n",
              "      <th>User_location</th>\n",
              "      <th>clean_tweet</th>\n",
              "    </tr>\n",
              "  </thead>\n",
              "  <tbody>\n",
              "    <tr>\n",
              "      <th>0</th>\n",
              "      <td>2023-01-28 03:09:56</td>\n",
              "      <td>HRH Hotels</td>\n",
              "      <td>False</td>\n",
              "      <td>Your dedication, determination, and vision ins...</td>\n",
              "      <td>0</td>\n",
              "      <td>0</td>\n",
              "      <td>Udaipur, India</td>\n",
              "      <td>your dedication determination and vision inspi...</td>\n",
              "    </tr>\n",
              "    <tr>\n",
              "      <th>1</th>\n",
              "      <td>2023-01-28 02:58:46</td>\n",
              "      <td>I LOVE PRANALI</td>\n",
              "      <td>False</td>\n",
              "      <td>I only tolerated udaipur scenes bcz they menti...</td>\n",
              "      <td>5</td>\n",
              "      <td>0</td>\n",
              "      <td></td>\n",
              "      <td>i only tolerated udaipur scenes bcz they menti...</td>\n",
              "    </tr>\n",
              "    <tr>\n",
              "      <th>2</th>\n",
              "      <td>2023-01-28 02:58:06</td>\n",
              "      <td>Uttam Pegu/乌塔姆·佩古/Umme Pe'gu/उत्तम पेगू/উত্তম ...</td>\n",
              "      <td>False</td>\n",
              "      <td>@TheNeelkanth @NikonIndia @WildlifeMag @BBCEar...</td>\n",
              "      <td>0</td>\n",
              "      <td>0</td>\n",
              "      <td>India</td>\n",
              "      <td>rajasthan</td>\n",
              "    </tr>\n",
              "    <tr>\n",
              "      <th>3</th>\n",
              "      <td>2023-01-28 02:35:18</td>\n",
              "      <td>Rt9240</td>\n",
              "      <td>False</td>\n",
              "      <td>So Manjiri going to d*e once once akshu lands ...</td>\n",
              "      <td>1</td>\n",
              "      <td>0</td>\n",
              "      <td>Bellevue, WA</td>\n",
              "      <td>so manjiri going to d e once once akshu lands ...</td>\n",
              "    </tr>\n",
              "    <tr>\n",
              "      <th>4</th>\n",
              "      <td>2023-01-28 02:32:34</td>\n",
              "      <td>Rahul Sharma 🏳️‍🌈</td>\n",
              "      <td>False</td>\n",
              "      <td>This might just be the best picture I've ever ...</td>\n",
              "      <td>11</td>\n",
              "      <td>0</td>\n",
              "      <td>New Delhi, India</td>\n",
              "      <td>this might just be the best picture i ve ever ...</td>\n",
              "    </tr>\n",
              "  </tbody>\n",
              "</table>\n",
              "</div>\n",
              "      <button class=\"colab-df-convert\" onclick=\"convertToInteractive('df-fd36fd08-42a6-41fa-9eaf-d48c10e7ef4a')\"\n",
              "              title=\"Convert this dataframe to an interactive table.\"\n",
              "              style=\"display:none;\">\n",
              "        \n",
              "  <svg xmlns=\"http://www.w3.org/2000/svg\" height=\"24px\"viewBox=\"0 0 24 24\"\n",
              "       width=\"24px\">\n",
              "    <path d=\"M0 0h24v24H0V0z\" fill=\"none\"/>\n",
              "    <path d=\"M18.56 5.44l.94 2.06.94-2.06 2.06-.94-2.06-.94-.94-2.06-.94 2.06-2.06.94zm-11 1L8.5 8.5l.94-2.06 2.06-.94-2.06-.94L8.5 2.5l-.94 2.06-2.06.94zm10 10l.94 2.06.94-2.06 2.06-.94-2.06-.94-.94-2.06-.94 2.06-2.06.94z\"/><path d=\"M17.41 7.96l-1.37-1.37c-.4-.4-.92-.59-1.43-.59-.52 0-1.04.2-1.43.59L10.3 9.45l-7.72 7.72c-.78.78-.78 2.05 0 2.83L4 21.41c.39.39.9.59 1.41.59.51 0 1.02-.2 1.41-.59l7.78-7.78 2.81-2.81c.8-.78.8-2.07 0-2.86zM5.41 20L4 18.59l7.72-7.72 1.47 1.35L5.41 20z\"/>\n",
              "  </svg>\n",
              "      </button>\n",
              "      \n",
              "  <style>\n",
              "    .colab-df-container {\n",
              "      display:flex;\n",
              "      flex-wrap:wrap;\n",
              "      gap: 12px;\n",
              "    }\n",
              "\n",
              "    .colab-df-convert {\n",
              "      background-color: #E8F0FE;\n",
              "      border: none;\n",
              "      border-radius: 50%;\n",
              "      cursor: pointer;\n",
              "      display: none;\n",
              "      fill: #1967D2;\n",
              "      height: 32px;\n",
              "      padding: 0 0 0 0;\n",
              "      width: 32px;\n",
              "    }\n",
              "\n",
              "    .colab-df-convert:hover {\n",
              "      background-color: #E2EBFA;\n",
              "      box-shadow: 0px 1px 2px rgba(60, 64, 67, 0.3), 0px 1px 3px 1px rgba(60, 64, 67, 0.15);\n",
              "      fill: #174EA6;\n",
              "    }\n",
              "\n",
              "    [theme=dark] .colab-df-convert {\n",
              "      background-color: #3B4455;\n",
              "      fill: #D2E3FC;\n",
              "    }\n",
              "\n",
              "    [theme=dark] .colab-df-convert:hover {\n",
              "      background-color: #434B5C;\n",
              "      box-shadow: 0px 1px 3px 1px rgba(0, 0, 0, 0.15);\n",
              "      filter: drop-shadow(0px 1px 2px rgba(0, 0, 0, 0.3));\n",
              "      fill: #FFFFFF;\n",
              "    }\n",
              "  </style>\n",
              "\n",
              "      <script>\n",
              "        const buttonEl =\n",
              "          document.querySelector('#df-fd36fd08-42a6-41fa-9eaf-d48c10e7ef4a button.colab-df-convert');\n",
              "        buttonEl.style.display =\n",
              "          google.colab.kernel.accessAllowed ? 'block' : 'none';\n",
              "\n",
              "        async function convertToInteractive(key) {\n",
              "          const element = document.querySelector('#df-fd36fd08-42a6-41fa-9eaf-d48c10e7ef4a');\n",
              "          const dataTable =\n",
              "            await google.colab.kernel.invokeFunction('convertToInteractive',\n",
              "                                                     [key], {});\n",
              "          if (!dataTable) return;\n",
              "\n",
              "          const docLinkHtml = 'Like what you see? Visit the ' +\n",
              "            '<a target=\"_blank\" href=https://colab.research.google.com/notebooks/data_table.ipynb>data table notebook</a>'\n",
              "            + ' to learn more about interactive tables.';\n",
              "          element.innerHTML = '';\n",
              "          dataTable['output_type'] = 'display_data';\n",
              "          await google.colab.output.renderOutput(dataTable, element);\n",
              "          const docLink = document.createElement('div');\n",
              "          docLink.innerHTML = docLinkHtml;\n",
              "          element.appendChild(docLink);\n",
              "        }\n",
              "      </script>\n",
              "    </div>\n",
              "  </div>\n",
              "  "
            ]
          },
          "metadata": {},
          "execution_count": 11
        }
      ],
      "source": [
        "df['clean_tweet'] = df['Tweet'].apply(lambda x : clean_tweet(x))\n",
        "df.head(5)"
      ]
    },
    {
      "cell_type": "code",
      "execution_count": null,
      "metadata": {
        "id": "UcrtYVgpk2hM",
        "colab": {
          "base_uri": "https://localhost:8080/"
        },
        "outputId": "2d0a49ee-c8eb-43e9-93bb-adfd2c55aa4f"
      },
      "outputs": [
        {
          "output_type": "execute_result",
          "data": {
            "text/plain": [
              "                  Date                                               User  \\\n",
              "0  2023-01-28 03:09:56                                         HRH Hotels   \n",
              "1  2023-01-28 02:58:46                                     I LOVE PRANALI   \n",
              "2  2023-01-28 02:58:06  Uttam Pegu/乌塔姆·佩古/Umme Pe'gu/उत्तम पेगू/উত্তম ...   \n",
              "3  2023-01-28 02:35:18                                             Rt9240   \n",
              "4  2023-01-28 02:32:34                                  Rahul Sharma 🏳️‍🌈   \n",
              "\n",
              "  IsVerified                                              Tweet Likes RT  \\\n",
              "0      False  Your dedication, determination, and vision ins...     0  0   \n",
              "1      False  I only tolerated udaipur scenes bcz they menti...     5  0   \n",
              "2      False  @TheNeelkanth @NikonIndia @WildlifeMag @BBCEar...     0  0   \n",
              "3      False  So Manjiri going to d*e once once akshu lands ...     1  0   \n",
              "4      False  This might just be the best picture I've ever ...    11  0   \n",
              "\n",
              "      User_location                                        clean_tweet  \\\n",
              "0    Udaipur, India  your dedication determination and vision inspi...   \n",
              "1                    i only tolerated udaipur scenes bcz they menti...   \n",
              "2             India                                          rajasthan   \n",
              "3      Bellevue, WA  so manjiri going to d e once once akshu lands ...   \n",
              "4  New Delhi, India  this might just be the best picture i ve ever ...   \n",
              "\n",
              "  Sentiment  \n",
              "0  Positive  \n",
              "1   Neutral  \n",
              "2   Neutral  \n",
              "3   Neutral  \n",
              "4  Positive  "
            ],
            "text/html": [
              "\n",
              "  <div id=\"df-627a2eab-d173-4354-a1ed-10f5aaf59aa7\">\n",
              "    <div class=\"colab-df-container\">\n",
              "      <div>\n",
              "<style scoped>\n",
              "    .dataframe tbody tr th:only-of-type {\n",
              "        vertical-align: middle;\n",
              "    }\n",
              "\n",
              "    .dataframe tbody tr th {\n",
              "        vertical-align: top;\n",
              "    }\n",
              "\n",
              "    .dataframe thead th {\n",
              "        text-align: right;\n",
              "    }\n",
              "</style>\n",
              "<table border=\"1\" class=\"dataframe\">\n",
              "  <thead>\n",
              "    <tr style=\"text-align: right;\">\n",
              "      <th></th>\n",
              "      <th>Date</th>\n",
              "      <th>User</th>\n",
              "      <th>IsVerified</th>\n",
              "      <th>Tweet</th>\n",
              "      <th>Likes</th>\n",
              "      <th>RT</th>\n",
              "      <th>User_location</th>\n",
              "      <th>clean_tweet</th>\n",
              "      <th>Sentiment</th>\n",
              "    </tr>\n",
              "  </thead>\n",
              "  <tbody>\n",
              "    <tr>\n",
              "      <th>0</th>\n",
              "      <td>2023-01-28 03:09:56</td>\n",
              "      <td>HRH Hotels</td>\n",
              "      <td>False</td>\n",
              "      <td>Your dedication, determination, and vision ins...</td>\n",
              "      <td>0</td>\n",
              "      <td>0</td>\n",
              "      <td>Udaipur, India</td>\n",
              "      <td>your dedication determination and vision inspi...</td>\n",
              "      <td>Positive</td>\n",
              "    </tr>\n",
              "    <tr>\n",
              "      <th>1</th>\n",
              "      <td>2023-01-28 02:58:46</td>\n",
              "      <td>I LOVE PRANALI</td>\n",
              "      <td>False</td>\n",
              "      <td>I only tolerated udaipur scenes bcz they menti...</td>\n",
              "      <td>5</td>\n",
              "      <td>0</td>\n",
              "      <td></td>\n",
              "      <td>i only tolerated udaipur scenes bcz they menti...</td>\n",
              "      <td>Neutral</td>\n",
              "    </tr>\n",
              "    <tr>\n",
              "      <th>2</th>\n",
              "      <td>2023-01-28 02:58:06</td>\n",
              "      <td>Uttam Pegu/乌塔姆·佩古/Umme Pe'gu/उत्तम पेगू/উত্তম ...</td>\n",
              "      <td>False</td>\n",
              "      <td>@TheNeelkanth @NikonIndia @WildlifeMag @BBCEar...</td>\n",
              "      <td>0</td>\n",
              "      <td>0</td>\n",
              "      <td>India</td>\n",
              "      <td>rajasthan</td>\n",
              "      <td>Neutral</td>\n",
              "    </tr>\n",
              "    <tr>\n",
              "      <th>3</th>\n",
              "      <td>2023-01-28 02:35:18</td>\n",
              "      <td>Rt9240</td>\n",
              "      <td>False</td>\n",
              "      <td>So Manjiri going to d*e once once akshu lands ...</td>\n",
              "      <td>1</td>\n",
              "      <td>0</td>\n",
              "      <td>Bellevue, WA</td>\n",
              "      <td>so manjiri going to d e once once akshu lands ...</td>\n",
              "      <td>Neutral</td>\n",
              "    </tr>\n",
              "    <tr>\n",
              "      <th>4</th>\n",
              "      <td>2023-01-28 02:32:34</td>\n",
              "      <td>Rahul Sharma 🏳️‍🌈</td>\n",
              "      <td>False</td>\n",
              "      <td>This might just be the best picture I've ever ...</td>\n",
              "      <td>11</td>\n",
              "      <td>0</td>\n",
              "      <td>New Delhi, India</td>\n",
              "      <td>this might just be the best picture i ve ever ...</td>\n",
              "      <td>Positive</td>\n",
              "    </tr>\n",
              "  </tbody>\n",
              "</table>\n",
              "</div>\n",
              "      <button class=\"colab-df-convert\" onclick=\"convertToInteractive('df-627a2eab-d173-4354-a1ed-10f5aaf59aa7')\"\n",
              "              title=\"Convert this dataframe to an interactive table.\"\n",
              "              style=\"display:none;\">\n",
              "        \n",
              "  <svg xmlns=\"http://www.w3.org/2000/svg\" height=\"24px\"viewBox=\"0 0 24 24\"\n",
              "       width=\"24px\">\n",
              "    <path d=\"M0 0h24v24H0V0z\" fill=\"none\"/>\n",
              "    <path d=\"M18.56 5.44l.94 2.06.94-2.06 2.06-.94-2.06-.94-.94-2.06-.94 2.06-2.06.94zm-11 1L8.5 8.5l.94-2.06 2.06-.94-2.06-.94L8.5 2.5l-.94 2.06-2.06.94zm10 10l.94 2.06.94-2.06 2.06-.94-2.06-.94-.94-2.06-.94 2.06-2.06.94z\"/><path d=\"M17.41 7.96l-1.37-1.37c-.4-.4-.92-.59-1.43-.59-.52 0-1.04.2-1.43.59L10.3 9.45l-7.72 7.72c-.78.78-.78 2.05 0 2.83L4 21.41c.39.39.9.59 1.41.59.51 0 1.02-.2 1.41-.59l7.78-7.78 2.81-2.81c.8-.78.8-2.07 0-2.86zM5.41 20L4 18.59l7.72-7.72 1.47 1.35L5.41 20z\"/>\n",
              "  </svg>\n",
              "      </button>\n",
              "      \n",
              "  <style>\n",
              "    .colab-df-container {\n",
              "      display:flex;\n",
              "      flex-wrap:wrap;\n",
              "      gap: 12px;\n",
              "    }\n",
              "\n",
              "    .colab-df-convert {\n",
              "      background-color: #E8F0FE;\n",
              "      border: none;\n",
              "      border-radius: 50%;\n",
              "      cursor: pointer;\n",
              "      display: none;\n",
              "      fill: #1967D2;\n",
              "      height: 32px;\n",
              "      padding: 0 0 0 0;\n",
              "      width: 32px;\n",
              "    }\n",
              "\n",
              "    .colab-df-convert:hover {\n",
              "      background-color: #E2EBFA;\n",
              "      box-shadow: 0px 1px 2px rgba(60, 64, 67, 0.3), 0px 1px 3px 1px rgba(60, 64, 67, 0.15);\n",
              "      fill: #174EA6;\n",
              "    }\n",
              "\n",
              "    [theme=dark] .colab-df-convert {\n",
              "      background-color: #3B4455;\n",
              "      fill: #D2E3FC;\n",
              "    }\n",
              "\n",
              "    [theme=dark] .colab-df-convert:hover {\n",
              "      background-color: #434B5C;\n",
              "      box-shadow: 0px 1px 3px 1px rgba(0, 0, 0, 0.15);\n",
              "      filter: drop-shadow(0px 1px 2px rgba(0, 0, 0, 0.3));\n",
              "      fill: #FFFFFF;\n",
              "    }\n",
              "  </style>\n",
              "\n",
              "      <script>\n",
              "        const buttonEl =\n",
              "          document.querySelector('#df-627a2eab-d173-4354-a1ed-10f5aaf59aa7 button.colab-df-convert');\n",
              "        buttonEl.style.display =\n",
              "          google.colab.kernel.accessAllowed ? 'block' : 'none';\n",
              "\n",
              "        async function convertToInteractive(key) {\n",
              "          const element = document.querySelector('#df-627a2eab-d173-4354-a1ed-10f5aaf59aa7');\n",
              "          const dataTable =\n",
              "            await google.colab.kernel.invokeFunction('convertToInteractive',\n",
              "                                                     [key], {});\n",
              "          if (!dataTable) return;\n",
              "\n",
              "          const docLinkHtml = 'Like what you see? Visit the ' +\n",
              "            '<a target=\"_blank\" href=https://colab.research.google.com/notebooks/data_table.ipynb>data table notebook</a>'\n",
              "            + ' to learn more about interactive tables.';\n",
              "          element.innerHTML = '';\n",
              "          dataTable['output_type'] = 'display_data';\n",
              "          await google.colab.output.renderOutput(dataTable, element);\n",
              "          const docLink = document.createElement('div');\n",
              "          docLink.innerHTML = docLinkHtml;\n",
              "          element.appendChild(docLink);\n",
              "        }\n",
              "      </script>\n",
              "    </div>\n",
              "  </div>\n",
              "  "
            ]
          },
          "metadata": {},
          "execution_count": 12
        }
      ],
      "source": [
        "df[\"Sentiment\"] = df[\"Tweet\"].apply(lambda x : analyze_sentiment(x))\n",
        "df.head(5)"
      ]
    },
    {
      "cell_type": "code",
      "execution_count": null,
      "metadata": {
        "id": "3IILIVOGlBnQ",
        "colab": {
          "base_uri": "https://localhost:8080/"
        },
        "outputId": "ebcfad82-695f-46da-c3d8-6ab33757a258"
      },
      "outputs": [
        {
          "output_type": "stream",
          "name": "stdout",
          "text": [
            "Original tweet:\n",
            " @Smitagopal She will when akshu gonna come to udaipur lol😂😂😂😂😭\n",
            "\n",
            "Clean tweet:\n",
            " she will when akshu gonna come to udaipur lol\n",
            "\n",
            "Sentiment of the tweet:\n",
            " Neutral\n"
          ]
        }
      ],
      "source": [
        "n = 15\n",
        "print(\"Original tweet:\\n\",df['Tweet'][n])\n",
        "print()\n",
        "print(\"Clean tweet:\\n\",df['clean_tweet'][n])\n",
        "print()\n",
        "print(\"Sentiment of the tweet:\\n\",df['Sentiment'][n])"
      ]
    },
    {
      "cell_type": "code",
      "execution_count": null,
      "metadata": {
        "id": "v971viONlE9I",
        "colab": {
          "base_uri": "https://localhost:8080/"
        },
        "outputId": "a63ea550-be57-4258-c3a7-d776439c9087"
      },
      "outputs": [
        {
          "output_type": "stream",
          "name": "stdout",
          "text": [
            "Total Tweets Extracted for Topic : ['Udaipur'] are : 101\n",
            "Total Positive Tweets are : 46\n",
            "Total Negative Tweets are : 17\n",
            "Total Neutral Tweets are : 38\n"
          ]
        }
      ],
      "source": [
        "print(\"Total Tweets Extracted for Topic : {} are : {}\".format(Topic,len(df.Tweet)))\n",
        "print(\"Total Positive Tweets are : {}\".format(len(df[df[\"Sentiment\"]==\"Positive\"])))\n",
        "print(\"Total Negative Tweets are : {}\".format(len(df[df[\"Sentiment\"]==\"Negative\"])))\n",
        "print(\"Total Neutral Tweets are : {}\".format(len(df[df[\"Sentiment\"]==\"Neutral\"])))"
      ]
    },
    {
      "cell_type": "code",
      "execution_count": null,
      "metadata": {
        "id": "5zs1jK5BlH6U",
        "colab": {
          "base_uri": "https://localhost:8080/"
        },
        "outputId": "a98833ad-47b3-4ceb-c0b9-c6656fd563a0"
      },
      "outputs": [
        {
          "output_type": "execute_result",
          "data": {
            "text/plain": [
              "Positive    46\n",
              "Neutral     38\n",
              "Negative    17\n",
              "Name: Sentiment, dtype: int64"
            ]
          },
          "metadata": {},
          "execution_count": 15
        }
      ],
      "source": [
        "df[\"Sentiment\"].value_counts()"
      ]
    },
    {
      "cell_type": "code",
      "execution_count": null,
      "metadata": {
        "id": "Zv58TxlOlJ5U",
        "colab": {
          "base_uri": "https://localhost:8080/",
          "height": 367
        },
        "outputId": "3a456a37-b8a3-44af-8793-acd5ab4a2dcf"
      },
      "outputs": [
        {
          "output_type": "stream",
          "name": "stderr",
          "text": [
            "/usr/local/lib/python3.8/dist-packages/seaborn/_decorators.py:36: FutureWarning: Pass the following variable as a keyword arg: x. From version 0.12, the only valid positional argument will be `data`, and passing other arguments without an explicit keyword will result in an error or misinterpretation.\n",
            "  warnings.warn(\n"
          ]
        },
        {
          "output_type": "execute_result",
          "data": {
            "text/plain": [
              "Text(0.5, 1.0, 'Summary of Counts for Total tweets')"
            ]
          },
          "metadata": {},
          "execution_count": 16
        },
        {
          "output_type": "display_data",
          "data": {
            "text/plain": [
              "<Figure size 432x288 with 1 Axes>"
            ],
            "image/png": "[encoded data removed]"
          },
          "metadata": {
            "needs_background": "light"
          }
        }
      ],
      "source": [
        "sns.countplot(df[\"Sentiment\"])\n",
        "plt.title(\"Summary of Counts for Total tweets\")"
      ]
    },
    {
      "cell_type": "code",
      "execution_count": null,
      "metadata": {
        "id": "npopSBdflMfE",
        "colab": {
          "base_uri": "https://localhost:8080/",
          "height": 248
        },
        "outputId": "f6aad50d-4a0e-4f02-deff-9c35f079649e"
      },
      "outputs": [
        {
          "output_type": "display_data",
          "data": {
            "text/plain": [
              "<Figure size 432x288 with 1 Axes>"
            ],
            "image/png": "[encoded data removed]"
          },
          "metadata": {}
        }
      ],
      "source": [
        "a=len(df[df[\"Sentiment\"]==\"Positive\"])\n",
        "b=len(df[df[\"Sentiment\"]==\"Negative\"])\n",
        "c=len(df[df[\"Sentiment\"]==\"Neutral\"])\n",
        "d=np.array([a,b,c])\n",
        "explode = (0.1, 0.0, 0.1)\n",
        "plt.pie(d,shadow=True,explode=explode,labels=[\"Positive\",\"Negative\",\"Neutral\"],autopct='%1.2f%%');"
      ]
    },
    {
      "cell_type": "code",
      "execution_count": null,
      "metadata": {
        "id": "5ohX9F2flPFR",
        "colab": {
          "base_uri": "https://localhost:8080/",
          "height": 384
        },
        "outputId": "87e21b7b-37d8-4782-ebbf-40c029b73c03"
      },
      "outputs": [
        {
          "output_type": "stream",
          "name": "stderr",
          "text": [
            "/usr/local/lib/python3.8/dist-packages/seaborn/_decorators.py:36: FutureWarning: Pass the following variable as a keyword arg: x. From version 0.12, the only valid positional argument will be `data`, and passing other arguments without an explicit keyword will result in an error or misinterpretation.\n",
            "  warnings.warn(\n"
          ]
        },
        {
          "output_type": "execute_result",
          "data": {
            "text/plain": [
              "Text(0.5, 1.0, 'Summary of Counts for Total tweets,Distributed by if the User has a verified Account or not')"
            ]
          },
          "metadata": {},
          "execution_count": 18
        },
        {
          "output_type": "display_data",
          "data": {
            "text/plain": [
              "<Figure size 432x288 with 1 Axes>"
            ],
            "image/png": "[encoded data removed]"
          },
          "metadata": {
            "needs_background": "light"
          }
        }
      ],
      "source": [
        "sns.countplot(df[\"Sentiment\"],hue=df.IsVerified)\n",
        "plt.title(\"Summary of Counts for Total tweets,Distributed by if the User has a verified Account or not\")"
      ]
    },
    {
      "cell_type": "code",
      "source": [],
      "metadata": {
        "id": "aI3StSbLzCMn"
      },
      "execution_count": null,
      "outputs": []
    }
  ],
  "metadata": {
    "colab": {
      "provenance": []
    },
    "kernelspec": {
      "display_name": "Python 3",
      "name": "python3"
    },
    "language_info": {
      "name": "python"
    }
  },
  "nbformat": 4,
  "nbformat_minor": 0
}